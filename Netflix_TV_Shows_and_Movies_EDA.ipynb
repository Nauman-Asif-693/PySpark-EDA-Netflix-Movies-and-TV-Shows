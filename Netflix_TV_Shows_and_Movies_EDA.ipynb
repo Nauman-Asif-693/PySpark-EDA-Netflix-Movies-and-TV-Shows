{
 "cells": [
  {
   "cell_type": "markdown",
   "metadata": {},
   "source": [
    "# Nauman Asif | 2021510\n",
    "### Cloud and Distributed Computing - CE408\n",
    "### Assignment # 3"
   ]
  },
  {
   "cell_type": "markdown",
   "metadata": {},
   "source": [
    "Exploratory Data Analysis (EDA) on Netflix TV Shows and Movies Dataset"
   ]
  },
  {
   "cell_type": "markdown",
   "metadata": {},
   "source": [
    "### Initializing Spark"
   ]
  },
  {
   "cell_type": "code",
   "execution_count": 8,
   "metadata": {},
   "outputs": [],
   "source": [
    "import findspark\n",
    "findspark.init()  # Initialize findspark to locate Spark installation\n",
    "\n",
    "from pyspark.sql import SparkSession\n",
    "from pyspark.sql.functions import col, count, when, isnan, avg\n",
    "\n",
    "# Create a Spark session\n",
    "spark = SparkSession.builder.appName(\"Netflix EDA\").getOrCreate()"
   ]
  },
  {
   "cell_type": "markdown",
   "metadata": {},
   "source": [
    "### Loading the Dataset"
   ]
  },
  {
   "cell_type": "code",
   "execution_count": 9,
   "metadata": {},
   "outputs": [
    {
     "name": "stdout",
     "output_type": "stream",
     "text": [
      "root\n",
      " |-- id: string (nullable = true)\n",
      " |-- title: string (nullable = true)\n",
      " |-- type: string (nullable = true)\n",
      " |-- description: string (nullable = true)\n",
      " |-- release_year: string (nullable = true)\n",
      " |-- age_certification: string (nullable = true)\n",
      " |-- runtime: string (nullable = true)\n",
      " |-- genres: string (nullable = true)\n",
      " |-- production_countries: string (nullable = true)\n",
      " |-- seasons: string (nullable = true)\n",
      " |-- imdb_id: string (nullable = true)\n",
      " |-- imdb_score: string (nullable = true)\n",
      " |-- imdb_votes: string (nullable = true)\n",
      " |-- tmdb_popularity: string (nullable = true)\n",
      " |-- tmdb_score: string (nullable = true)\n",
      "\n",
      "+--------+--------------------+-----+--------------------+------------+-----------------+-------+--------------------+--------------------+-------+---------+----------+----------+---------------+----------+\n",
      "|      id|               title| type|         description|release_year|age_certification|runtime|              genres|production_countries|seasons|  imdb_id|imdb_score|imdb_votes|tmdb_popularity|tmdb_score|\n",
      "+--------+--------------------+-----+--------------------+------------+-----------------+-------+--------------------+--------------------+-------+---------+----------+----------+---------------+----------+\n",
      "|ts300399|Five Came Back: T...| SHOW|\"This collection ...|        1945|            TV-MA|     51|   ['documentation']|              ['US']|    1.0|     NULL|      NULL|      NULL|            0.6|      NULL|\n",
      "| tm84618|         Taxi Driver|MOVIE|A mentally unstab...|        1976|                R|    114|  ['drama', 'crime']|              ['US']|   NULL|tt0075314|       8.2|  808582.0|         40.965|     8.179|\n",
      "|tm154986|         Deliverance|MOVIE|Intent on seeing ...|        1972|                R|    109|['drama', 'action...|              ['US']|   NULL|tt0068473|       7.7|  107673.0|          10.01|       7.3|\n",
      "|tm127384|Monty Python and ...|MOVIE|\"King Arthur, acc...|        1975|               PG|     91|['fantasy', 'acti...|              ['GB']|   NULL|tt0071853|       8.2|  534486.0|         15.461|     7.811|\n",
      "|tm120801|     The Dirty Dozen|MOVIE|12 American milit...|        1967|             NULL|    150|   ['war', 'action']|        ['GB', 'US']|   NULL|tt0061578|       7.7|   72662.0|         20.398|       7.6|\n",
      "+--------+--------------------+-----+--------------------+------------+-----------------+-------+--------------------+--------------------+-------+---------+----------+----------+---------------+----------+\n",
      "only showing top 5 rows\n",
      "\n"
     ]
    }
   ],
   "source": [
    "file_path = \"titles.csv\"  # Dataset's path\n",
    "netflix_df = spark.read.csv(file_path, header=True, inferSchema=True)\n",
    "\n",
    "# Display the schema\n",
    "netflix_df.printSchema()\n",
    "\n",
    "# Show a sample of the data\n",
    "netflix_df.show(5)"
   ]
  },
  {
   "cell_type": "markdown",
   "metadata": {},
   "source": [
    "### Counting the Missing Values"
   ]
  },
  {
   "cell_type": "code",
   "execution_count": 10,
   "metadata": {},
   "outputs": [
    {
     "name": "stdout",
     "output_type": "stream",
     "text": [
      "+---+-----+----+-----------+------------+-----------------+-------+------+--------------------+-------+-------+----------+----------+---------------+----------+\n",
      "| id|title|type|description|release_year|age_certification|runtime|genres|production_countries|seasons|imdb_id|imdb_score|imdb_votes|tmdb_popularity|tmdb_score|\n",
      "+---+-----+----+-----------+------------+-----------------+-------+------+--------------------+-------+-------+----------+----------+---------------+----------+\n",
      "|  0|    3|  18|         40|          70|             2594|    121|    97|                  96|   3684|    541|       575|       600|            223|       418|\n",
      "+---+-----+----+-----------+------------+-----------------+-------+------+--------------------+-------+-------+----------+----------+---------------+----------+\n",
      "\n"
     ]
    }
   ],
   "source": [
    "missing_values = netflix_df.select([\n",
    "    count(when(col(c).isNull() | isnan(c), c)).alias(c) for c in netflix_df.columns\n",
    "])\n",
    "missing_values.show()"
   ]
  },
  {
   "cell_type": "markdown",
   "metadata": {},
   "source": [
    "### Summary Statistics"
   ]
  },
  {
   "cell_type": "code",
   "execution_count": 11,
   "metadata": {},
   "outputs": [
    {
     "name": "stdout",
     "output_type": "stream",
     "text": [
      "+-------+--------------------+------------------+------------------+--------------------+--------------------+--------------------+--------------------+--------------------+--------------------+--------------------+--------------------+-----------------+--------------------+--------------------+------------------+\n",
      "|summary|                  id|             title|              type|         description|        release_year|   age_certification|             runtime|              genres|production_countries|             seasons|             imdb_id|       imdb_score|          imdb_votes|     tmdb_popularity|        tmdb_score|\n",
      "+-------+--------------------+------------------+------------------+--------------------+--------------------+--------------------+--------------------+--------------------+--------------------+--------------------+--------------------+-----------------+--------------------+--------------------+------------------+\n",
      "|  count|                5929|              5926|              5911|                5889|                5859|                3335|                5808|                5832|                5833|                2245|                5388|             5354|                5329|                5706|              5511|\n",
      "|   mean|                NULL|           1616.05|2012.3333333333333|   789.9047619047619|  2012.3034790365746|             1877.31|   88.92018446257538|   558.7476830985916|   580.9028571428571|  45.406237911025144|   7280.358057435896|8.392124229583954|  21988.772907273415|    692.037306005985|113.67703655638857|\n",
      "| stddev|                NULL| 795.1366300997055|  7.63167244071858|   980.5222539423521|   91.60854245292626|     507.87472994148|  155.03672250812525|   850.4691443778877|    880.355291085618|  1048.4053257856522|   59555.68594623602|54.31401049158492|   86472.19980544285|  31235.159897654044| 5093.114933424773|\n",
      "|    min| Adea‘s uncle is ...| 'documentation']\"|    2008 in Japan.|    2007. As of 2008| \"\"Married...\"\" f...| \"\"Bachelor\"\". In...|               2008.| 20 years before ...| \"\"La Chiqui\"\" ge...| ABC in Australia...| PRAY AWAY chroni...|    British India| López's little d...| after making her...| López visits Toro|\n",
      "|    max|             ts99814|   뽀로로 동화나라|            ['US']|﻿As Pacworlders e...|          tt21063170|                  []|['scifi', 'animat...|           tt9826314|           tt8107988|           tt7211600|           tt9916362|        tt9522354|           tt9426212|           tt9150970|         tt8786466|\n",
      "+-------+--------------------+------------------+------------------+--------------------+--------------------+--------------------+--------------------+--------------------+--------------------+--------------------+--------------------+-----------------+--------------------+--------------------+------------------+\n",
      "\n"
     ]
    }
   ],
   "source": [
    "netflix_df.describe().show()"
   ]
  },
  {
   "cell_type": "markdown",
   "metadata": {},
   "source": [
    "### Distribution Analysis"
   ]
  },
  {
   "cell_type": "code",
   "execution_count": 12,
   "metadata": {},
   "outputs": [
    {
     "name": "stdout",
     "output_type": "stream",
     "text": [
      "+--------------------+-----+\n",
      "|                type|count|\n",
      "+--------------------+-----+\n",
      "|               MOVIE| 3744|\n",
      "|                SHOW| 2106|\n",
      "|                NULL|   18|\n",
      "|               TV-14|    5|\n",
      "| every Saturday a...|    3|\n",
      "+--------------------+-----+\n",
      "only showing top 5 rows\n",
      "\n",
      "+----------+-----+\n",
      "|imdb_score|count|\n",
      "+----------+-----+\n",
      "|      NULL|  575|\n",
      "|       7.1|  197|\n",
      "|       6.5|  194|\n",
      "|       7.4|  191|\n",
      "|       6.7|  188|\n",
      "+----------+-----+\n",
      "only showing top 5 rows\n",
      "\n",
      "+------------+-----+\n",
      "|release_year|count|\n",
      "+------------+-----+\n",
      "|        2019|  807|\n",
      "|        2020|  792|\n",
      "|        2021|  761|\n",
      "|        2018|  740|\n",
      "|        2017|  541|\n",
      "+------------+-----+\n",
      "only showing top 5 rows\n",
      "\n"
     ]
    }
   ],
   "source": [
    "# Count unique values in categorical columns\n",
    "for column in [\"type\", \"imdb_score\", \"release_year\"]:\n",
    "    netflix_df.groupBy(column).count().orderBy(col(\"count\").desc()).show(5)"
   ]
  },
  {
   "cell_type": "markdown",
   "metadata": {},
   "source": [
    "### Filtering Movies and TV Shows"
   ]
  },
  {
   "cell_type": "code",
   "execution_count": 13,
   "metadata": {},
   "outputs": [
    {
     "name": "stdout",
     "output_type": "stream",
     "text": [
      "Total Movies: 3744\n",
      "Total TV Shows: 2106\n"
     ]
    }
   ],
   "source": [
    "movies_df = netflix_df.filter(col(\"type\") == \"MOVIE\")\n",
    "tv_shows_df = netflix_df.filter(col(\"type\") == \"SHOW\")\n",
    "\n",
    "print(f\"Total Movies: {movies_df.count()}\")\n",
    "print(f\"Total TV Shows: {tv_shows_df.count()}\")"
   ]
  },
  {
   "cell_type": "markdown",
   "metadata": {},
   "source": [
    "### Top 5 genres"
   ]
  },
  {
   "cell_type": "code",
   "execution_count": 14,
   "metadata": {},
   "outputs": [
    {
     "name": "stdout",
     "output_type": "stream",
     "text": [
      "\n",
      "Top 5 Movie Genres:\n",
      "+--------------------+-----+\n",
      "|              genres|count|\n",
      "+--------------------+-----+\n",
      "|          ['comedy']|  356|\n",
      "|   ['documentation']|  220|\n",
      "|           ['drama']|  216|\n",
      "|['comedy', 'docum...|   87|\n",
      "| ['comedy', 'drama']|   82|\n",
      "+--------------------+-----+\n",
      "only showing top 5 rows\n",
      "\n",
      "\n",
      "Top 5 TV Shows Genres:\n",
      "+-------------------+-----+\n",
      "|             genres|count|\n",
      "+-------------------+-----+\n",
      "|        ['reality']|  107|\n",
      "|          ['drama']|   96|\n",
      "|  ['documentation']|   96|\n",
      "|         ['comedy']|   93|\n",
      "|['comedy', 'drama']|   50|\n",
      "+-------------------+-----+\n",
      "only showing top 5 rows\n",
      "\n"
     ]
    }
   ],
   "source": [
    "print(\"\\nTop 5 Movie Genres:\")\n",
    "movies_df.groupBy(\"genres\").count().orderBy(col(\"count\").desc()).show(5)\n",
    "\n",
    "print(\"\\nTop 5 TV Shows Genres:\")\n",
    "tv_shows_df.groupBy(\"genres\").count().orderBy(col(\"count\").desc()).show(5)"
   ]
  },
  {
   "cell_type": "markdown",
   "metadata": {},
   "source": [
    "### Stopping Spark Session"
   ]
  },
  {
   "cell_type": "code",
   "execution_count": 15,
   "metadata": {},
   "outputs": [],
   "source": [
    "spark.stop()"
   ]
  }
 ],
 "metadata": {
  "kernelspec": {
   "display_name": "base",
   "language": "python",
   "name": "python3"
  },
  "language_info": {
   "codemirror_mode": {
    "name": "ipython",
    "version": 3
   },
   "file_extension": ".py",
   "mimetype": "text/x-python",
   "name": "python",
   "nbconvert_exporter": "python",
   "pygments_lexer": "ipython3",
   "version": "3.12.4"
  }
 },
 "nbformat": 4,
 "nbformat_minor": 2
}
